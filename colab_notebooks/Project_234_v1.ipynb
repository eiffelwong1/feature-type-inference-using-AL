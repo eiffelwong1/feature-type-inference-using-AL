{
  "nbformat": 4,
  "nbformat_minor": 0,
  "metadata": {
    "file_extension": ".py",
    "kernelspec": {
      "display_name": "Python [conda env:234proj]",
      "language": "python",
      "name": "conda-env-234proj-py"
    },
    "language_info": {
      "codemirror_mode": {
        "name": "ipython",
        "version": 3
      },
      "file_extension": ".py",
      "mimetype": "text/x-python",
      "name": "python",
      "nbconvert_exporter": "python",
      "pygments_lexer": "ipython3",
      "version": "3.8.5"
    },
    "mimetype": "text/x-python",
    "name": "python",
    "npconvert_exporter": "python",
    "pygments_lexer": "ipython3",
    "version": 3,
    "colab": {
      "name": "Project_234_v1.ipynb",
      "provenance": [],
      "collapsed_sections": [],
      "include_colab_link": true
    }
  },
  "cells": [
    {
      "cell_type": "markdown",
      "metadata": {
        "id": "view-in-github",
        "colab_type": "text"
      },
      "source": [
        "<a href=\"https://colab.research.google.com/github/eiffelwong1/feature-type-inference-using-AL/blob/simulation_v1/Project_234_v1.ipynb\" target=\"_parent\"><img src=\"https://colab.research.google.com/assets/colab-badge.svg\" alt=\"Open In Colab\"/></a>"
      ]
    },
    {
      "cell_type": "code",
      "metadata": {
        "colab": {
          "base_uri": "https://localhost:8080/"
        },
        "id": "f4yzwH6hW0d7",
        "outputId": "222affca-b7bd-4f43-b0b2-1fc43c10e220"
      },
      "source": [
        "!pip install modAL"
      ],
      "execution_count": 1,
      "outputs": [
        {
          "output_type": "stream",
          "name": "stdout",
          "text": [
            "Collecting modAL\n",
            "  Downloading modAL-0.4.1-py3-none-any.whl (27 kB)\n",
            "Requirement already satisfied: scipy>=0.18 in /usr/local/lib/python3.7/dist-packages (from modAL) (1.4.1)\n",
            "Requirement already satisfied: pandas>=1.1.0 in /usr/local/lib/python3.7/dist-packages (from modAL) (1.1.5)\n",
            "Requirement already satisfied: numpy>=1.13 in /usr/local/lib/python3.7/dist-packages (from modAL) (1.19.5)\n",
            "Requirement already satisfied: scikit-learn>=0.18 in /usr/local/lib/python3.7/dist-packages (from modAL) (0.22.2.post1)\n",
            "Requirement already satisfied: pytz>=2017.2 in /usr/local/lib/python3.7/dist-packages (from pandas>=1.1.0->modAL) (2018.9)\n",
            "Requirement already satisfied: python-dateutil>=2.7.3 in /usr/local/lib/python3.7/dist-packages (from pandas>=1.1.0->modAL) (2.8.2)\n",
            "Requirement already satisfied: six>=1.5 in /usr/local/lib/python3.7/dist-packages (from python-dateutil>=2.7.3->pandas>=1.1.0->modAL) (1.15.0)\n",
            "Requirement already satisfied: joblib>=0.11 in /usr/local/lib/python3.7/dist-packages (from scikit-learn>=0.18->modAL) (1.0.1)\n",
            "Installing collected packages: modAL\n",
            "Successfully installed modAL-0.4.1\n"
          ]
        }
      ]
    },
    {
      "cell_type": "code",
      "metadata": {
        "id": "aubVrU9VVqoE"
      },
      "source": [
        "import os\n",
        "import csv\n",
        "import pickle\n",
        "import pandas as pd\n",
        "import numpy as np\n",
        "from functools import partial\n",
        "\n",
        "import tensorflow as tf\n",
        "from tensorflow import keras\n",
        "\n",
        "from sklearn.feature_extraction.text import CountVectorizer\n",
        "from sklearn.model_selection import train_test_split\n",
        "from sklearn.ensemble import RandomForestClassifier\n",
        "\n",
        "from modAL.models import ActiveLearner\n",
        "from modAL.batch import uncertainty_batch_sampling\n",
        "\n",
        "import matplotlib.pyplot as plt\n",
        "%matplotlib inline\n",
        "\n",
        "import warnings"
      ],
      "execution_count": 2,
      "outputs": []
    },
    {
      "cell_type": "code",
      "metadata": {
        "colab": {
          "base_uri": "https://localhost:8080/"
        },
        "id": "SVVSF_H5VqoF",
        "outputId": "ad956ce2-daad-42e0-89e4-d5760d6084aa"
      },
      "source": [
        "from google.colab import drive\n",
        "drive.mount('/content/drive')\n",
        "\n",
        "xtrain = pd.read_csv('/content/drive/My Drive/Project_234/data_train.csv')\n",
        "xtest = pd.read_csv('/content/drive/My Drive/Project_234/data_test.csv')\n",
        "\n",
        "print(xtrain.shape)\n",
        "print(xtest.shape)\n",
        "print(xtrain.columns)"
      ],
      "execution_count": 3,
      "outputs": [
        {
          "output_type": "stream",
          "name": "stdout",
          "text": [
            "Mounted at /content/drive\n",
            "(7936, 33)\n",
            "(1985, 33)\n",
            "Index(['Record_id', 'Attribute_name', 'y_act', 'total_vals', 'num_nans',\n",
            "       '%_nans', 'num_of_dist_val', '%_dist_val', 'mean', 'std_dev', 'min_val',\n",
            "       'max_val', 'sample_1', 'sample_2', 'sample_3', 'sample_4', 'sample_5',\n",
            "       'has_delimiters', 'has_url', 'has_email', 'has_date', 'mean_word_count',\n",
            "       'std_dev_word_count', 'mean_stopword_total', 'stdev_stopword_total',\n",
            "       'mean_char_count', 'stdev_char_count', 'mean_whitespace_count',\n",
            "       'stdev_whitespace_count', 'mean_delim_count', 'stdev_delim_count',\n",
            "       'is_list', 'is_long_sentence'],\n",
            "      dtype='object')\n"
          ]
        }
      ]
    },
    {
      "cell_type": "code",
      "metadata": {
        "id": "C7SFzayyVqoG"
      },
      "source": [
        "filePathName = '/content/drive/My Drive/Project_234/RandomForest.pkl'\n",
        "loaded_model = pickle.load(open(filePathName, 'rb'))"
      ],
      "execution_count": 4,
      "outputs": []
    },
    {
      "cell_type": "code",
      "metadata": {
        "id": "YfaMFCF-VqoG"
      },
      "source": [
        "useStats = 1\n",
        "useAttributeName = 1\n",
        "useSample1 = 0\n",
        "useSample2 = 0\n",
        "## Using descriptive stats and attribute name"
      ],
      "execution_count": 5,
      "outputs": []
    },
    {
      "cell_type": "code",
      "metadata": {
        "id": "VovEeB7zVqoH"
      },
      "source": [
        "dict_label = {\n",
        "    'numeric': 0,\n",
        "    'categorical': 1,\n",
        "    'datetime': 2,\n",
        "    'sentence': 3,\n",
        "    'url': 4,\n",
        "    'embedded-number': 5,\n",
        "    'list': 6,\n",
        "    'not-generalizable': 7,\n",
        "    'context-specific': 8\n",
        "}\n",
        "\n",
        "y_train = xtrain.loc[:,['y_act']]\n",
        "y_test = xtest.loc[:,['y_act']]\n",
        "y_train['y_act'] = [dict_label[i] for i in y_train['y_act']]\n",
        "y_test['y_act'] = [dict_label[i] for i in y_test['y_act']]"
      ],
      "execution_count": 6,
      "outputs": []
    },
    {
      "cell_type": "code",
      "metadata": {
        "colab": {
          "base_uri": "https://localhost:8080/"
        },
        "id": "3gN2HUGcVqoH",
        "outputId": "375d9a54-794c-453c-f740-f6f5f09ace8c"
      },
      "source": [
        "def ProcessStats(data,y):\n",
        "\n",
        "    data1 = data[['total_vals', 'num_nans', '%_nans', 'num_of_dist_val', '%_dist_val', 'mean', 'std_dev', 'min_val', 'max_val','has_delimiters', 'has_url', 'has_email', 'has_date', 'mean_word_count',\n",
        "       'std_dev_word_count', 'mean_stopword_total', 'stdev_stopword_total',\n",
        "       'mean_char_count', 'stdev_char_count', 'mean_whitespace_count',\n",
        "       'stdev_whitespace_count', 'mean_delim_count', 'stdev_delim_count',\n",
        "       'is_list', 'is_long_sentence']]\n",
        "    data1 = data1.reset_index(drop=True)\n",
        "    data1 = data1.fillna(0)\n",
        "\n",
        "    y.y_act = y.y_act.astype(float)\n",
        "    \n",
        "    return data1\n",
        "\n",
        "vectorizerName = CountVectorizer(ngram_range=(2, 2), analyzer='char')\n",
        "vectorizerSample = CountVectorizer(ngram_range=(2, 2), analyzer='char')\n",
        "\n",
        "def FeatureExtraction(data,data1,flag):\n",
        "\n",
        "    arr = data['Attribute_name'].values\n",
        "    arr = [str(x) for x in arr]\n",
        "    \n",
        "    arr1 = data['sample_1'].values\n",
        "    arr1 = [str(x) for x in arr1]\n",
        "    arr2 = data['sample_2'].values\n",
        "    arr2 = [str(x) for x in arr2]\n",
        "    arr3 = data['sample_3'].values\n",
        "    arr3 = [str(x) for x in arr3]    \n",
        "    print(len(arr1),len(arr2))\n",
        "    if flag:\n",
        "        X = vectorizerName.fit_transform(arr)\n",
        "        X1 = vectorizerSample.fit_transform(arr1)\n",
        "        X2 = vectorizerSample.transform(arr2)   \n",
        "    else:\n",
        "        X = vectorizerName.transform(arr)\n",
        "        X1 = vectorizerSample.transform(arr1)\n",
        "        X2 = vectorizerSample.transform(arr2)        \n",
        "        \n",
        "#     print(f\"> Length of vectorized feature_names: {len(vectorizer.get_feature_names())}\")\n",
        "\n",
        "    attr_df = pd.DataFrame(X.toarray())\n",
        "    sample1_df = pd.DataFrame(X1.toarray())\n",
        "    sample2_df = pd.DataFrame(X2.toarray())\n",
        "    print(len(data1),len(attr_df),len(sample1_df),len(sample2_df))\n",
        "\n",
        "    if useSample1: data2 = sample1_df\n",
        "    if useSample2: data2 = sample2_df    \n",
        "    \n",
        "    data2 = pd.concat([data1, attr_df], axis=1, sort=False)\n",
        "    print(len(data2))\n",
        "    return data2\n",
        "\n",
        "xtrain1 = ProcessStats(xtrain,y_train)\n",
        "xtest1 = ProcessStats(xtest,y_test)\n",
        "\n",
        "\n",
        "X_train = FeatureExtraction(xtrain,xtrain1,1)\n",
        "X_test = FeatureExtraction(xtest,xtest1,0)\n",
        "\n",
        "\n",
        "X_train_new = X_train.reset_index(drop=True)\n",
        "y_train_new = y_train.reset_index(drop=True)\n",
        "X_train_new = X_train_new.values\n",
        "y_train_new = y_train_new.values"
      ],
      "execution_count": 7,
      "outputs": [
        {
          "output_type": "stream",
          "name": "stdout",
          "text": [
            "7936 7936\n",
            "7936 7936 7936 7936\n",
            "7936\n",
            "1985 1985\n",
            "1985 1985 1985 1985\n",
            "1985\n"
          ]
        }
      ]
    },
    {
      "cell_type": "code",
      "metadata": {
        "colab": {
          "base_uri": "https://localhost:8080/"
        },
        "id": "3ORxyCh0VqoI",
        "outputId": "d59c6d9b-c808-4412-a5a8-1f86387de60a"
      },
      "source": [
        "print(loaded_model.predict(X_train_new))\n",
        "\n",
        "print(\"train acc. :\",loaded_model.score(X_train_new, y_train))\n",
        "print(\"test  acc. :\",loaded_model.score(X_test, y_test))"
      ],
      "execution_count": 8,
      "outputs": [
        {
          "output_type": "stream",
          "name": "stdout",
          "text": [
            "[1. 1. 1. ... 3. 3. 3.]\n",
            "train acc. : 0.9731602822580645\n",
            "test  acc. : 0.926448362720403\n"
          ]
        }
      ]
    },
    {
      "cell_type": "code",
      "metadata": {
        "colab": {
          "base_uri": "https://localhost:8080/"
        },
        "id": "O-QHTlpgVqoJ",
        "outputId": "318b979f-1bc0-4616-b62a-9b24b9231261"
      },
      "source": [
        "print([i for i in X_train_new[0]])"
      ],
      "execution_count": 9,
      "outputs": [
        {
          "output_type": "stream",
          "name": "stdout",
          "text": [
            "[21477, 0, 0.0, 174, 0.810169018, 0.0, 0.0, 0.0, 0.0, False, False, False, False, 1.4, 0.8, 0.2, 0.4, 10.0, 4.816637832, 0.4, 0.8, 0.4, 0.8, False, False, 0, 0, 0, 0, 0, 0, 0, 0, 0, 0, 0, 0, 0, 0, 0, 0, 0, 0, 0, 0, 0, 0, 0, 0, 0, 0, 0, 0, 0, 0, 0, 0, 0, 0, 0, 0, 0, 0, 0, 0, 0, 0, 0, 0, 0, 0, 0, 0, 0, 0, 0, 0, 0, 0, 0, 0, 0, 0, 0, 0, 0, 0, 0, 0, 0, 0, 0, 0, 0, 0, 0, 0, 0, 0, 0, 0, 0, 0, 0, 0, 0, 0, 0, 0, 0, 0, 0, 0, 0, 0, 0, 0, 0, 0, 0, 0, 0, 0, 0, 0, 0, 0, 0, 0, 0, 0, 0, 0, 0, 0, 0, 0, 0, 0, 0, 0, 0, 0, 0, 0, 0, 0, 0, 0, 0, 0, 0, 0, 0, 0, 0, 0, 0, 0, 0, 0, 0, 0, 0, 0, 0, 0, 0, 0, 0, 0, 0, 0, 0, 0, 0, 0, 0, 0, 0, 0, 0, 0, 0, 0, 0, 0, 0, 0, 0, 0, 0, 0, 0, 0, 0, 0, 0, 0, 0, 0, 0, 0, 0, 0, 0, 0, 0, 0, 0, 0, 0, 0, 0, 0, 0, 0, 0, 0, 0, 0, 0, 0, 0, 0, 0, 0, 0, 0, 0, 0, 0, 0, 0, 0, 0, 0, 0, 0, 0, 0, 0, 0, 0, 0, 0, 0, 0, 0, 0, 0, 0, 0, 0, 0, 0, 0, 0, 0, 0, 0, 0, 0, 0, 0, 0, 0, 0, 0, 0, 0, 0, 0, 0, 0, 0, 0, 0, 0, 0, 0, 0, 0, 0, 0, 0, 0, 0, 0, 0, 0, 0, 0, 0, 0, 0, 0, 0, 0, 0, 0, 0, 0, 0, 0, 0, 0, 0, 0, 0, 0, 0, 0, 0, 0, 0, 0, 0, 0, 0, 0, 0, 0, 0, 0, 0, 0, 0, 0, 0, 0, 0, 0, 0, 0, 0, 0, 0, 0, 0, 0, 0, 0, 0, 0, 0, 0, 0, 0, 0, 0, 0, 0, 0, 0, 0, 0, 0, 0, 0, 0, 0, 0, 0, 0, 0, 0, 0, 0, 0, 0, 0, 0, 0, 0, 0, 0, 0, 0, 0, 0, 0, 0, 0, 0, 0, 0, 0, 0, 0, 0, 0, 0, 0, 0, 0, 0, 0, 0, 0, 0, 0, 0, 0, 0, 0, 0, 0, 0, 0, 0, 0, 0, 0, 0, 0, 0, 0, 0, 0, 0, 0, 0, 0, 0, 0, 0, 0, 0, 0, 0, 0, 0, 0, 0, 0, 0, 0, 0, 0, 0, 0, 0, 0, 0, 0, 0, 0, 0, 0, 0, 0, 0, 0, 0, 0, 0, 0, 0, 0, 0, 0, 0, 0, 0, 0, 0, 0, 0, 0, 0, 0, 0, 0, 0, 0, 0, 0, 0, 0, 0, 0, 0, 0, 0, 0, 0, 0, 0, 0, 0, 0, 0, 0, 0, 0, 0, 0, 0, 0, 0, 0, 0, 0, 0, 0, 0, 0, 0, 0, 0, 0, 0, 0, 0, 0, 0, 0, 0, 0, 0, 0, 0, 0, 0, 0, 0, 0, 0, 0, 0, 0, 0, 0, 0, 0, 0, 0, 0, 0, 0, 0, 0, 0, 0, 0, 0, 0, 0, 0, 0, 0, 0, 0, 0, 0, 0, 0, 0, 0, 0, 0, 0, 0, 0, 0, 0, 0, 0, 0, 0, 0, 0, 0, 0, 0, 0, 0, 0, 0, 0, 0, 0, 0, 0, 0, 0, 0, 0, 0, 0, 0, 0, 0, 0, 0, 0, 0, 0, 0, 0, 0, 0, 0, 0, 1, 0, 0, 0, 0, 0, 0, 0, 0, 0, 0, 0, 0, 0, 0, 0, 0, 0, 0, 0, 0, 0, 0, 0, 0, 0, 0, 0, 0, 0, 0, 0, 0, 0, 0, 0, 0, 0, 0, 0, 0, 0, 0, 0, 0, 0, 0, 0, 0, 0, 0, 0, 0, 0, 0, 0, 0, 0, 0, 0, 0, 0, 0, 0, 0, 0, 0, 0, 0, 0, 0, 0, 0, 0, 0, 0, 0, 0, 0, 0, 0, 0, 0, 0, 0, 0, 0, 0, 0, 0, 0, 0, 0, 0, 0, 0, 0, 0, 0, 0, 0, 0, 0, 0, 0, 0, 0, 0, 0, 0, 0, 0, 0, 0, 0, 0, 0, 0, 0, 0, 0, 0, 0, 0, 0, 0, 0, 0, 0, 0, 0, 0, 0, 0, 0, 0, 0, 0, 0, 0, 0, 1, 0, 0, 0, 0, 0, 0, 0, 0, 0, 0, 0, 0, 0, 0, 0, 0, 0, 0, 0, 0, 0, 0, 0, 0, 0, 0, 0, 0, 0, 0, 0, 0, 0, 0, 0, 0, 0, 0, 0, 0, 0, 0, 0, 0, 0, 0, 0, 0, 0, 0, 0, 0, 0, 0, 0, 0, 0, 0, 0, 0, 0, 0, 0, 0, 0, 0, 0, 0, 0, 0, 0, 0, 0, 0, 0, 0, 0, 0, 0, 0, 0, 0, 0, 0, 0, 0, 0, 0, 0, 0, 0, 0, 0, 0, 0, 0, 0, 0, 0, 0, 0, 0, 0, 0, 0, 0, 0, 0, 0, 0, 0, 0, 0, 0, 0, 0, 0, 0, 0, 0, 0, 0, 0, 0, 0, 0, 0, 0, 0, 0, 0, 0, 0, 0, 0, 0, 0, 0, 0, 0, 0, 0, 0, 0, 0, 0, 0, 0, 0, 0, 0, 0, 0, 0, 0, 0, 0, 0, 0, 0, 0, 0, 0, 0, 0, 0, 0, 0, 0, 0, 0, 0, 0, 0, 0, 0, 0, 0, 0, 0, 0, 0, 0, 0, 0, 0, 0, 0, 0, 0, 0, 0, 0, 0, 0, 0, 0, 0, 0, 0, 0, 0, 0, 0, 0, 0, 0, 0, 0, 0, 0, 0, 0, 0, 0, 0, 0, 0, 0, 0, 0, 0, 0, 0, 0, 0, 0, 0, 0, 0, 0, 0, 0, 0, 0, 0, 0, 0, 0, 0, 0, 0, 0, 0, 0, 0, 0, 0, 0, 0, 0, 0, 0, 0, 0, 0, 0, 0, 0, 0, 0, 0, 0, 0, 0, 0, 0, 0, 0, 0, 0, 0, 0, 0, 0, 0, 0, 0, 0, 0, 0, 0, 0, 0, 0, 0, 0, 0, 0, 0, 0, 0, 0, 0, 0, 0, 0, 0, 0, 0, 0, 0, 0, 0, 0, 0, 0, 0, 0, 0, 0, 0, 0, 0, 0, 0, 0, 0, 0, 0, 0, 0, 0, 0, 0, 0, 0, 0, 0, 0, 0, 0, 0, 0, 0, 0, 0, 0, 0, 0, 0, 0, 0, 0, 0, 0, 0, 0, 0, 0, 0, 0, 0, 0, 0, 0, 0, 0, 0, 0, 0, 0, 0, 0, 0, 0, 0, 0, 0, 0, 0, 0, 0, 0, 0, 0, 0, 0, 0, 0, 0, 0, 0, 0, 0, 0, 0, 0, 0, 0, 0, 0, 0, 0, 0, 0, 0, 0, 0, 0, 0, 0, 0, 0, 0, 0, 0, 0, 0, 0, 0, 0, 0, 0, 0, 0, 0, 0, 0, 0, 0, 0, 0, 1, 0, 0, 0, 0, 0, 0, 0, 0, 0, 0, 0, 0, 0, 0, 0, 0, 0, 0, 0, 0, 0, 0, 0, 0, 0, 0, 0, 0, 0, 0, 0, 0, 0, 0, 0, 0, 0, 0, 0, 0, 0, 0, 0, 0, 0, 0, 0, 0, 0, 0, 0, 0, 0, 0, 0, 0, 0, 0, 0, 0, 0, 0, 0, 0, 0, 0, 0, 0, 0, 0, 0, 0, 0, 0, 0, 0, 0, 0, 0, 0, 0, 0, 0, 0, 0, 0, 0, 0, 0, 0, 0, 0, 0, 0, 0, 0, 0, 0, 0, 0, 0, 0, 0, 0, 0, 0, 0, 0, 0, 0, 0, 0, 0, 0, 0, 0, 0, 0, 0, 0, 0, 0, 0, 0, 0, 0, 0, 0, 0, 0, 0, 0, 0, 0, 0, 0, 0, 0, 0, 0, 0, 0, 0, 0, 0, 0, 0, 0, 0, 0, 0, 0, 0, 0, 0, 0, 0, 0, 0, 0, 0, 0, 0, 0, 0, 0, 0, 0, 0, 0, 0, 0, 0, 0, 0, 0, 0, 0, 0, 0, 0, 0, 0, 0, 0, 0, 0, 0, 0, 0, 0, 0, 0, 0, 0, 0, 0, 0, 0, 0, 0, 0, 0, 0, 0, 0, 0, 0, 0, 0, 0, 0, 0, 0, 0, 0, 0, 0, 0, 0, 0, 0, 0, 0, 0, 0, 0, 0, 0, 0, 0, 0, 0, 0, 0, 0, 0, 0, 0, 0, 0, 0, 0, 0, 0, 0, 0, 0, 0, 0, 0, 0, 0, 0, 0, 0, 0, 0, 0, 0, 0, 0, 0, 0, 0, 0, 0, 0, 0, 0, 0, 0, 0, 0, 0, 0, 0, 0, 0, 0, 0, 0, 0, 0, 0, 0, 0, 0, 0, 0, 0, 0, 0, 0, 0, 0, 0, 0, 0, 0, 0, 0, 0, 0, 0, 0, 0]\n"
          ]
        }
      ]
    },
    {
      "cell_type": "code",
      "metadata": {
        "colab": {
          "base_uri": "https://localhost:8080/"
        },
        "id": "Fo3dB9NMbaLn",
        "outputId": "4622fae1-e899-4aea-f7e0-d8d18860d9c5"
      },
      "source": [
        "print(len(X_train_new))"
      ],
      "execution_count": 10,
      "outputs": [
        {
          "output_type": "stream",
          "name": "stdout",
          "text": [
            "7936\n"
          ]
        }
      ]
    },
    {
      "cell_type": "code",
      "metadata": {
        "id": "2VjodBfxVqoJ"
      },
      "source": [
        "# keep_percent = 0.2\n",
        "query_sizes = [100] #[5, 10, 25, 50, 100]"
      ],
      "execution_count": 11,
      "outputs": []
    },
    {
      "cell_type": "code",
      "metadata": {
        "colab": {
          "base_uri": "https://localhost:8080/",
          "height": 1000
        },
        "id": "6_4IDabKiGA8",
        "outputId": "899631cf-f2c1-4beb-9ed8-01180fc56780"
      },
      "source": [
        "with warnings.catch_warnings(record=\"True\"):\n",
        "  # Split test set into simulation set and actual test set\n",
        "  simulation_idx = np.random.choice(len(X_test), int(len(X_test)/2), replace=False)\n",
        "  test_idx = [i for i in range(len(X_test)) if i not in simulation_idx]\n",
        "  X_simulation_AL = []\n",
        "  y_simulation_AL = []\n",
        "  for idx in simulation_idx:\n",
        "    X_simulation_AL.append(X_test.iloc[idx]) \n",
        "    y_simulation_AL.append(y_test.iloc[idx])\n",
        "\n",
        "  X_test_AL = []\n",
        "  y_test_AL = []\n",
        "  for idx in test_idx:\n",
        "    X_test_AL.append(X_test.iloc[idx]) \n",
        "    y_test_AL.append(y_test.iloc[idx])\n",
        "\n",
        "  # Start AL loops simulated with a part of the test data\n",
        "  X_simulation_df = pd.DataFrame(X_simulation_AL)\n",
        "  y_simulation_df = pd.DataFrame(y_simulation_AL)\n",
        "\n",
        "  # X_simulation_np = np.array(X_simulation_AL)\n",
        "  # y_simulation_np = np.array(y_simulation_AL)\n",
        "\n",
        "  # X_simulation_df = X_simulation_df.reset_index(drop=True)\n",
        "  for query_size in query_sizes:\n",
        "    model_accuracies = []\n",
        "    feed_to_learner = []\n",
        "\n",
        "    preset_batch = partial(uncertainty_batch_sampling, n_instances=query_size)\n",
        "    learner = ActiveLearner(\n",
        "      estimator=RandomForestClassifier(),\n",
        "      X_training=X_train_new, y_training=y_train,\n",
        "      query_strategy=preset_batch\n",
        "    )\n",
        "\n",
        "    num_of_queries = int(len(X_simulation_df)/query_size)\n",
        "    print(f\"\\n>>>>>>>>>>>>>> [NEW ITERATION WITH NEXT QUERY SIZE] The total number of queries: {num_of_queries} <<<<<<<<<<<<<<\\n\")\n",
        "    \n",
        "    unqueried_score = learner.score(X_test_AL, y_test_AL)\n",
        "    model_accuracies.append(unqueried_score)\n",
        "    print(f\"[INITIAL] Unqueried score before the AL teaching: {unqueried_score}\")\n",
        "\n",
        "    for i in range(num_of_queries):\n",
        "      print(f\"\\n*********** QUERY {i+1} ***********\\n\")\n",
        "      print(f\"Length of simulation set in query {i+1} is: {len(X_simulation_df)}\")\n",
        "      query_idx, query_inst = learner.query(np.array(X_simulation_df))\n",
        "      print(f\"Nodes returned for query in iteration 1: {query_idx}\")\n",
        "      learner.teach(X = X_simulation_df.iloc[query_idx], y = y_simulation_df.iloc[query_idx])\n",
        "      feed_to_learner += list(query_idx)\n",
        "\n",
        "      # delete queries that have been looped back into the model\n",
        "      X_simulation_df = X_simulation_df.drop(X_simulation_df.index[query_idx])\n",
        "      y_simulation_df = y_simulation_df.drop(y_simulation_df.index[query_idx])\n",
        "\n",
        "      # learner.teach(X = pd.Series(X_simulation_np[idx]), y = y_simulation_np[idx])\n",
        "\n",
        "      # X_simulation_np = np.delete(X_simulation_np, query_index, axis=0)\n",
        "      # y_simulation_np = np.delete(y_simulation_np, query_index)\n",
        "\n",
        "      # Calculate and report our model's accuracy.\n",
        "      model_accuracy = learner.score(X_test_AL, y_test_AL)\n",
        "      model_accuracies.append(model_accuracy)\n",
        "      print(f\"\\n[INTERMEDIATE] Accuracy after query {i+1}: {model_accuracy:0.4f}\")\n",
        "\n",
        "  print(f\"\\n[FINAL] Accuracy after query {num_of_queries}: {model_accuracies[-1]:0.4f}\")\n",
        "  print(f\"\\n[FINAL-HIGHEST] OPTIMAL Accuracy obtained: {max(model_accuracies):0.4f}\")\n",
        "  print(f\"\\n[FINAL ACCURACY LIST]: {model_accuracies}\")\n",
        "  print(f\"\\n[FINAL FEED TO LEARNER LIST]: {len(feed_to_learner)}, {feed_to_learner}\")\n",
        "  plt.plot([1] + [i+1 for i in range(1, num_of_queries + 1)], model_accuracies)\n",
        "  plt.xlabel(\"Queries\")\n",
        "  plt.ylabel(\"Model accuracy on test set\")\n",
        "  plt.show()"
      ],
      "execution_count": 14,
      "outputs": [
        {
          "output_type": "stream",
          "name": "stdout",
          "text": [
            "\n",
            ">>>>>>>>>>>>>> [NEW ITERATION WITH NEXT QUERY SIZE] The total number of queries: 9 <<<<<<<<<<<<<<\n",
            "\n",
            "[INITIAL] Unqueried score before the AL teaching: 0.945619335347432\n",
            "\n",
            "*********** QUERY 1 ***********\n",
            "\n",
            "Length of simulation set in query 1 is: 992\n",
            "Nodes returned for query in iteration 1: [426 539 846 659 550 705  32 848 528 381 716 890  13 409  71  35 377 590\n",
            " 843 303 365 548 724 833 390 240 420 107 803 702 466 851 646 494 989 960\n",
            " 853 981 385 425 546 611 322 943 839 531 796  25 384 276 363 201 762 417\n",
            " 939 237 119 609 310 360  44  20 950 729 817  22 610  16 778 845 944 942\n",
            " 349 985 874 228 794 404 607 101 380 748 905 759 670 308 197 718 509  11\n",
            " 569 215 584 523 343 873  47 269 136 578]\n",
            "\n",
            "[INTERMEDIATE] Accuracy after query 1: 0.9406\n",
            "\n",
            "*********** QUERY 2 ***********\n",
            "\n",
            "Length of simulation set in query 2 is: 892\n",
            "Nodes returned for query in iteration 1: [247 474 482 488 435 389 431 423 839 601 276 427 197  69 613  42 873 682\n",
            "  14 731 730 316 473 756 292 710 535 677 322 299 757 453 827 296 337 605\n",
            "  32 679 269 287  58 121  18 610 728 735 123 295 102 161 658 315 619 327\n",
            " 569 496 521 164 163 749  87 137 603 729 660 342 371 343 463 546 349 451\n",
            " 472  38 221  83 131 166 180 616 464 158 838  39 683 803  84 489 745 215\n",
            " 550 479  73  76 212 868 547 467 687 760]\n",
            "\n",
            "[INTERMEDIATE] Accuracy after query 2: 0.9446\n",
            "\n",
            "*********** QUERY 3 ***********\n",
            "\n",
            "Length of simulation set in query 3 is: 792\n",
            "Nodes returned for query in iteration 1: [566 208 558 147 229 341 210 516 381 320 718 417 158 581 561 446 724 602\n",
            " 514  37 639 747 443 390 368  25 578 108 105 343 522 653 104 600  56 220\n",
            " 139  29 291 735 490 619 722 155 530  78 447 353 259 237 350 421 373  33\n",
            " 484  87 790  44 787 509 100  64 335 318 311 163 451 472  15 313 634 101\n",
            " 710 426 438 732 116 662 354 464 327  54 637 551  88 621 197 714 204  82\n",
            " 190 541 145 754 388 418 625  21 213 725]\n",
            "\n",
            "[INTERMEDIATE] Accuracy after query 3: 0.9476\n",
            "\n",
            "*********** QUERY 4 ***********\n",
            "\n",
            "Length of simulation set in query 4 is: 692\n",
            "Nodes returned for query in iteration 1: [326 256 356 392 301 548 529  16  33 613  30  19 184  38 266 604 387 423\n",
            " 254 379 435 515 647 128 233 586 414 402 341 384 519 306 198 622 671 673\n",
            " 495 342 150 185 417 368 424  79 691 191 620 189 140 585  48 281 649 137\n",
            " 530 228 656 124 277 503 237  27 615 383 472  69 310 315  14 320 293 213\n",
            " 350 245 271 654 634 192 177 413 311  13  21 112 121 285 611 549 475 630\n",
            " 334 545 680 391 463 333 173 453 643 688]\n",
            "\n",
            "[INTERMEDIATE] Accuracy after query 4: 0.9486\n",
            "\n",
            "*********** QUERY 5 ***********\n",
            "\n",
            "Length of simulation set in query 5 is: 592\n",
            "Nodes returned for query in iteration 1: [473  27  70 566 352 369 187 109 513 463 260  46  95 265 170 364 167 453\n",
            " 233 100 320 553 510 517   6  19 193  11 188 396 465 303 299 135   0  87\n",
            " 191 343 476 579 108 576 486 117 121 489 171 425  97 269 275 438 210 507\n",
            " 472  96  54 331 558 181 341 208 290 127 252 418  39  48 198 251 175  36\n",
            " 226 358 544 403 288 354  12 247 523 491 350  17 490 414 423 215 141 286\n",
            " 307 339 417   4 284 105 525 162 150 214]\n",
            "\n",
            "[INTERMEDIATE] Accuracy after query 5: 0.9476\n",
            "\n",
            "*********** QUERY 6 ***********\n",
            "\n",
            "Length of simulation set in query 6 is: 492\n",
            "Nodes returned for query in iteration 1: [388 289 172 387 326 354 260 409 136 187 470 286 311 355 129  81 461  42\n",
            " 445 368  68 484 351 237 123 239  84 173 225 194  79   0 103 181 174 180\n",
            "  51 322 324 115 275 176 341 285 234 378 193 219 308 150 359 393 195 153\n",
            " 448 280 262  59  80 287 130 231 367 338  23  72 261 342 379 223 300 111\n",
            " 347 446  69 265  24 414  98 163 464 328 394 229 151 377   2  30 189 185\n",
            " 296 438 365 454 376 158 487 315 319 100]\n",
            "\n",
            "[INTERMEDIATE] Accuracy after query 6: 0.9517\n",
            "\n",
            "*********** QUERY 7 ***********\n",
            "\n",
            "Length of simulation set in query 7 is: 392\n",
            "Nodes returned for query in iteration 1: [275 158 315 296 198 135  41 360  55  14 290 367 279  45 322  84 208   1\n",
            " 236 271 390 260 160  82 127 155  56 348  95 370 247 178 226 254  86 381\n",
            " 373 309  15  67 106  64 201  97 146 239 259 320 165 273 330 358 268 175\n",
            " 154 138 204  44  27  20 240  69 256 189 363  13 340 108  71 266 308   4\n",
            "  10 303 369 389 117 388 258 202  88 186 209 328 310 288 168 114 136 197\n",
            " 180 350  68 374 299 161 126  89  75 231]\n",
            "\n",
            "[INTERMEDIATE] Accuracy after query 7: 0.9436\n",
            "\n",
            "*********** QUERY 8 ***********\n",
            "\n",
            "Length of simulation set in query 8 is: 292\n",
            "Nodes returned for query in iteration 1: [115 197  17  76 268 140  11 214 212  26 222  97 250  41 169 215  20 186\n",
            "  65  60  10  78 236  32  30 190  96  75 196 105  33  79 106 193 205 242\n",
            " 230 218  89  31 103 177 129 277  14 262 247 194 245 257 213 131 123 157\n",
            "  55  91 114 152 110 135 285 102 153  98 256 191 287 224  22 109  81 144\n",
            " 240 121 128 100 269 281 120 143  35 261   5  16 273 263 266  24  45 118\n",
            " 233 284  39 173 210  73 149 136 148 267]\n",
            "\n",
            "[INTERMEDIATE] Accuracy after query 8: 0.9466\n",
            "\n",
            "*********** QUERY 9 ***********\n",
            "\n",
            "Length of simulation set in query 9 is: 192\n",
            "Nodes returned for query in iteration 1: [ 77  58  24 121  76  50  54  96  88 131 173  39 144  37 130 184  86  48\n",
            "  71  75 134 142 171 190 169 138  84 105 170  56  89 161  31 133  97  62\n",
            " 156 177  57   1 186 188 185 135  92  40 165  82 137 151  72   5 116  98\n",
            " 140  21 123  22 160  59 139  51  11 129  83 174 157  38  35 155  95 125\n",
            " 167 191  27   3 101 126  25  43  20 110 175  52 182  23  81 187 113  53\n",
            "  46 111  45   2  73  33 109 124  78 146]\n",
            "\n",
            "[INTERMEDIATE] Accuracy after query 9: 0.9486\n",
            "\n",
            "[FINAL] Accuracy after query 9: 0.9486\n",
            "\n",
            "[FINAL-HIGHEST] OPTIMAL Accuracy obtained: 0.9517\n",
            "\n",
            "[FINAL ACCURACY LIST]: [0.945619335347432, 0.9405840886203424, 0.9446122860020141, 0.9476334340382678, 0.9486404833836858, 0.9476334340382678, 0.9516616314199395, 0.9436052366565961, 0.94662638469285, 0.9486404833836858]\n",
            "\n",
            "[FINAL FEED TO LEARNER LIST]: 900, [426, 539, 846, 659, 550, 705, 32, 848, 528, 381, 716, 890, 13, 409, 71, 35, 377, 590, 843, 303, 365, 548, 724, 833, 390, 240, 420, 107, 803, 702, 466, 851, 646, 494, 989, 960, 853, 981, 385, 425, 546, 611, 322, 943, 839, 531, 796, 25, 384, 276, 363, 201, 762, 417, 939, 237, 119, 609, 310, 360, 44, 20, 950, 729, 817, 22, 610, 16, 778, 845, 944, 942, 349, 985, 874, 228, 794, 404, 607, 101, 380, 748, 905, 759, 670, 308, 197, 718, 509, 11, 569, 215, 584, 523, 343, 873, 47, 269, 136, 578, 247, 474, 482, 488, 435, 389, 431, 423, 839, 601, 276, 427, 197, 69, 613, 42, 873, 682, 14, 731, 730, 316, 473, 756, 292, 710, 535, 677, 322, 299, 757, 453, 827, 296, 337, 605, 32, 679, 269, 287, 58, 121, 18, 610, 728, 735, 123, 295, 102, 161, 658, 315, 619, 327, 569, 496, 521, 164, 163, 749, 87, 137, 603, 729, 660, 342, 371, 343, 463, 546, 349, 451, 472, 38, 221, 83, 131, 166, 180, 616, 464, 158, 838, 39, 683, 803, 84, 489, 745, 215, 550, 479, 73, 76, 212, 868, 547, 467, 687, 760, 566, 208, 558, 147, 229, 341, 210, 516, 381, 320, 718, 417, 158, 581, 561, 446, 724, 602, 514, 37, 639, 747, 443, 390, 368, 25, 578, 108, 105, 343, 522, 653, 104, 600, 56, 220, 139, 29, 291, 735, 490, 619, 722, 155, 530, 78, 447, 353, 259, 237, 350, 421, 373, 33, 484, 87, 790, 44, 787, 509, 100, 64, 335, 318, 311, 163, 451, 472, 15, 313, 634, 101, 710, 426, 438, 732, 116, 662, 354, 464, 327, 54, 637, 551, 88, 621, 197, 714, 204, 82, 190, 541, 145, 754, 388, 418, 625, 21, 213, 725, 326, 256, 356, 392, 301, 548, 529, 16, 33, 613, 30, 19, 184, 38, 266, 604, 387, 423, 254, 379, 435, 515, 647, 128, 233, 586, 414, 402, 341, 384, 519, 306, 198, 622, 671, 673, 495, 342, 150, 185, 417, 368, 424, 79, 691, 191, 620, 189, 140, 585, 48, 281, 649, 137, 530, 228, 656, 124, 277, 503, 237, 27, 615, 383, 472, 69, 310, 315, 14, 320, 293, 213, 350, 245, 271, 654, 634, 192, 177, 413, 311, 13, 21, 112, 121, 285, 611, 549, 475, 630, 334, 545, 680, 391, 463, 333, 173, 453, 643, 688, 473, 27, 70, 566, 352, 369, 187, 109, 513, 463, 260, 46, 95, 265, 170, 364, 167, 453, 233, 100, 320, 553, 510, 517, 6, 19, 193, 11, 188, 396, 465, 303, 299, 135, 0, 87, 191, 343, 476, 579, 108, 576, 486, 117, 121, 489, 171, 425, 97, 269, 275, 438, 210, 507, 472, 96, 54, 331, 558, 181, 341, 208, 290, 127, 252, 418, 39, 48, 198, 251, 175, 36, 226, 358, 544, 403, 288, 354, 12, 247, 523, 491, 350, 17, 490, 414, 423, 215, 141, 286, 307, 339, 417, 4, 284, 105, 525, 162, 150, 214, 388, 289, 172, 387, 326, 354, 260, 409, 136, 187, 470, 286, 311, 355, 129, 81, 461, 42, 445, 368, 68, 484, 351, 237, 123, 239, 84, 173, 225, 194, 79, 0, 103, 181, 174, 180, 51, 322, 324, 115, 275, 176, 341, 285, 234, 378, 193, 219, 308, 150, 359, 393, 195, 153, 448, 280, 262, 59, 80, 287, 130, 231, 367, 338, 23, 72, 261, 342, 379, 223, 300, 111, 347, 446, 69, 265, 24, 414, 98, 163, 464, 328, 394, 229, 151, 377, 2, 30, 189, 185, 296, 438, 365, 454, 376, 158, 487, 315, 319, 100, 275, 158, 315, 296, 198, 135, 41, 360, 55, 14, 290, 367, 279, 45, 322, 84, 208, 1, 236, 271, 390, 260, 160, 82, 127, 155, 56, 348, 95, 370, 247, 178, 226, 254, 86, 381, 373, 309, 15, 67, 106, 64, 201, 97, 146, 239, 259, 320, 165, 273, 330, 358, 268, 175, 154, 138, 204, 44, 27, 20, 240, 69, 256, 189, 363, 13, 340, 108, 71, 266, 308, 4, 10, 303, 369, 389, 117, 388, 258, 202, 88, 186, 209, 328, 310, 288, 168, 114, 136, 197, 180, 350, 68, 374, 299, 161, 126, 89, 75, 231, 115, 197, 17, 76, 268, 140, 11, 214, 212, 26, 222, 97, 250, 41, 169, 215, 20, 186, 65, 60, 10, 78, 236, 32, 30, 190, 96, 75, 196, 105, 33, 79, 106, 193, 205, 242, 230, 218, 89, 31, 103, 177, 129, 277, 14, 262, 247, 194, 245, 257, 213, 131, 123, 157, 55, 91, 114, 152, 110, 135, 285, 102, 153, 98, 256, 191, 287, 224, 22, 109, 81, 144, 240, 121, 128, 100, 269, 281, 120, 143, 35, 261, 5, 16, 273, 263, 266, 24, 45, 118, 233, 284, 39, 173, 210, 73, 149, 136, 148, 267, 77, 58, 24, 121, 76, 50, 54, 96, 88, 131, 173, 39, 144, 37, 130, 184, 86, 48, 71, 75, 134, 142, 171, 190, 169, 138, 84, 105, 170, 56, 89, 161, 31, 133, 97, 62, 156, 177, 57, 1, 186, 188, 185, 135, 92, 40, 165, 82, 137, 151, 72, 5, 116, 98, 140, 21, 123, 22, 160, 59, 139, 51, 11, 129, 83, 174, 157, 38, 35, 155, 95, 125, 167, 191, 27, 3, 101, 126, 25, 43, 20, 110, 175, 52, 182, 23, 81, 187, 113, 53, 46, 111, 45, 2, 73, 33, 109, 124, 78, 146]\n"
          ]
        },
        {
          "output_type": "display_data",
          "data": {
            "image/png": "[encoded data removed]",
            "text/plain": [
              "<Figure size 432x288 with 1 Axes>"
            ]
          },
          "metadata": {
            "needs_background": "light"
          }
        }
      ]
    }
  ]
}